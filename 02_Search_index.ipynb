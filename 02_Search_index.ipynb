{
  "cells": [
    {
      "cell_type": "markdown",
      "metadata": {
        "id": "view-in-github",
        "colab_type": "text"
      },
      "source": [
        "<a href=\"https://colab.research.google.com/github/Anson3208/Sentiment-Textmining-Analysis-Learning/blob/main/02_Search_index.ipynb\" target=\"_parent\"><img src=\"https://colab.research.google.com/assets/colab-badge.svg\" alt=\"Open In Colab\"/></a>"
      ]
    },
    {
      "cell_type": "markdown",
      "metadata": {
        "id": "gnue4wBGGdAa"
      },
      "source": [
        "# Week 2 Search Index\n"
      ]
    },
    {
      "cell_type": "markdown",
      "metadata": {
        "id": "iu0A5GzWYSKa"
      },
      "source": [
        "# Brown Corpus"
      ]
    },
    {
      "cell_type": "markdown",
      "metadata": {
        "id": "aYD73eRqblOY"
      },
      "source": [
        "The Brown Corpus is a collection of writing samples that was compiled in 1961 by professors at Brown University. The corpus contains approximately 500 writing samples totalling approximately 1,000,000 words. All of the writing samples are from 1961 and were written in American English. The samples cover a wide range of topics and come from a variety of sources, such as books, magazines, and newspapers. Although small by modern standards, the corpus was considered very large in its day. For many decades it was the primary dataset used in NLP research. \n",
        "\n"
      ]
    },
    {
      "cell_type": "markdown",
      "metadata": {
        "id": "RkwZzYJrf4Mi"
      },
      "source": [
        "There is a copy of the Brown Corpus available online. This code downloads the corpus into the variable `brown_corpus`. "
      ]
    },
    {
      "cell_type": "code",
      "execution_count": null,
      "metadata": {
        "id": "JVwy5gnFYSVv"
      },
      "outputs": [],
      "source": [
        "import urllib.request, json \n",
        "with urllib.request.urlopen(\"https://storage.googleapis.com/wd13/brown_corpus.json\") as url:\n",
        "  data = json.load(url)\n",
        "  brown_corpus = data['brown_corpus']"
      ]
    },
    {
      "cell_type": "markdown",
      "metadata": {
        "id": "ejA8KxjOgO1N"
      },
      "source": [
        "`brown_corpus` is a list. Each element of the list is a document. Documents are stored as strings. "
      ]
    },
    {
      "cell_type": "code",
      "execution_count": null,
      "metadata": {
        "colab": {
          "base_uri": "https://localhost:8080/"
        },
        "id": "xppAWdKJgRD3",
        "outputId": "9ef1d68d-bb64-4721-d568-6c34b5b8c357"
      },
      "outputs": [
        {
          "output_type": "stream",
          "name": "stdout",
          "text": [
            "_MIAMI, FLA&, MARCH 17_\r\n",
            "   - The Orioles tonight retained the distinction of\r\n",
            "being the only winless team among the eighteen Major-League\r\n",
            "clubs as they dropped their sixth straight spring exhibition\r\n",
            "decision, this one to the Kansas City Athletics by\r\n",
            "a score of 5 to 3.\r\n",
            "   Indications as late as the top of the sixth were\r\n",
            "that the Birds were to end their victory draought as\r\n",
            "they coasted along with a 3-to-o advantage.\r\n",
            "#SIEBERN HITS HOMER#\r\n",
            "Over the first five frames, Jack Fisher, the big righthandler\r\n",
            "who figures to be in the middle of Oriole plans for\r\n",
            "a drive on the 1961 American League pennant, held the\r\n",
            "~A's scoreless while yielding three scattered hits.\r\n",
            "   Then Dick Hyde, submarine-ball hurler, entered the\r\n",
            "contest and only five batters needed to face him before\r\n",
            "there existed a 3-to-3 deadlock.\r\n",
            "   A two-run homer by Norm Siebern and a solo blast\r\n",
            "by Bill Tuttle tied the game, and single runs in the\r\n",
            "eighth and ninth gave the Athletics their fifth victory\r\n",
            "in eight starts.\r\n",
            "#HOUSE THROWS WILD#\r\n",
            "With one down in the eighth, Marv Throneberry drew\r\n",
            "a walk and stole second as Hyde fanned Tuttle. Catcher\r\n",
            "Frank House's throw in an effort to nab Throneberry\r\n",
            "was wide and in the dirt.\r\n",
            "   Then Heywood Sullivan, Kansas City catcher, singled\r\n",
            "up the middle and Throneberry was across with what\r\n",
            "proved to be the winning run.\r\n",
            "   Rookie southpaw George Stepanovich relieved Hyde\r\n",
            "at the start of the ninth and gave up the ~A's fifth\r\n",
            "tally on a walk to second baseman Dick Howser, a wild\r\n",
            "pitch, and Frank Cipriani's single under Shortstop\r\n",
            "Jerry Adair's glove into center.\r\n",
            "   The Orioles once again performed at the plate in\r\n",
            "powderpuff fashion, gathering only seven blows off\r\n",
            "the offerings of three Kansas City pitchers. Three\r\n",
            "were doubles, Brooks Robinson getting a pair and Marv\r\n",
            "Breeding one.\r\n",
            "#HARTMAN IMPRESSIVE#\r\n",
            "Bill Kunkel, Bob Hartman and Ed Keegan did the mound\r\n",
            "chores for the club down from West Palm Beach to play\r\n",
            "the game before 767 paying customers in Miami Stadium.\r\n",
            "   The Birds got five hits and all three of their runs\r\n",
            "off Kunkel before Hartman took over in the top of the\r\n",
            "fourth. Hartman, purchased by the ~A's from the Milwaukee\r\n",
            "Braves last fall, allowed no hits in his scoreless\r\n",
            "three-inning appearance, and merited the triumph.\r\n",
            "   Keegan, a 6-foot-3-inch 158-pounder, gave up the\r\n",
            "Orioles' last two safeties over the final three frames,\r\n",
            "escaping a load of trouble in the ninth when the Birds\r\n",
            "threatened but failed to tally.\r\n",
            "#ROBINSON DOUBLES AGAIN#\r\n",
            "In the ninth, Robinson led off with his second double\r\n",
            "of the night, a blast off the fence 375 feet deep into\r\n",
            "left.\r\n",
            "   Whitey Herzog, performing in right as the Orioles\r\n",
            "fielded possibly their strongest team of the spring,\r\n",
            "worked Keegan for a base on balls.\r\n",
            "   Then three consecutive pinch-hitters failed to produce.\r\n",
            "   Pete Ward was sent in for House and, after failing\r\n",
            "in a bunt attempt, popped to Howser on the grass back\r\n",
            "of short.\r\n",
            "   John Powell, batting for Adair, fanned after fouling\r\n",
            "off two 2-and-2 pitches, and Buddy Barker, up for Stepanovich,\r\n",
            "bounced out sharply to Jerry Lumpe at second to end\r\n",
            "the 2-hour-and-27-minute contest.\r\n",
            "   The Orioles got a run in the first inning when Breeding,\r\n",
            "along with Robinson, the two Birds who got a pair of\r\n",
            "hits, doubled to right center, moved to third on Russ\r\n",
            "Snyder's single to right and crossed on Kunkel's wild\r\n",
            "pitch into the dirt in front of the plate.\r\n",
            "   The Flock added a pair of tallies in the third on\r\n",
            "three straight hits after two were out.\r\n",
            "   Jackie Brandt singled deep into the hole at short\r\n",
            "to start the rally.\r\n",
            "#LUMPE ERRS#\r\n",
            "Jim Gentile bounced a hard shot off Kunkel's glove\r\n",
            "and beat it out for a single, and when Lumpe grabbed\r\n",
            "the ball and threw it over first baseman Throneberry's\r\n",
            "head Brandt took third and Gentile second on the error.\r\n",
            "   Then Robinson slammed a long double to left center\r\n",
            "to score both runners. When Robinson tried to stretch\r\n",
            "his blow into a triple, he was cut down in a close\r\n",
            "play at third, Tuttle to Andy Carey.\r\n",
            "   The detailed rundown on the Kansas City scoring\r\n",
            "in the sixth went like this:\r\n",
            "   Lumpe worked a walk as the first batter to face\r\n",
            "Hyde and romped around as Siebern blasted Hyde's next\r\n",
            "toss 415 feet over the scoreboard in right center.\r\n",
            "#CAREY SINGLES#\r\n",
            "Carey singled on a slow-bouncing ball to short which\r\n",
            "Robinson cut across to field and threw wide to first.\r\n",
            "It was ruled a difficult chance and a hit.\r\n",
            "   Then Throneberry rapped into a fast double play.\r\n",
            "Breeding to Adair to Gentile, setting up Tuttle's 390-foot\r\n",
            "homer over the wall in left center.\r\n",
            "   If the Orioles are to break their losing streak\r\n",
            "within the next two days, it will have to be at the\r\n",
            "expense of the American League champion New York Yankees,\r\n",
            "who come in here tomorrow for a night game and a single\r\n",
            "test Sunday afternoon.\r\n",
            "_MIAMI, FLA&, MARCH 17_\r\n",
            "   - The flavor of Baltimore's Florida Grapefruit League\r\n",
            "news ripened considerably late today when the Orioles\r\n",
            "were advised that Ron Hansen has fulfilled his obligations\r\n",
            "under the Army's military training program and is ready\r\n",
            "for belated spring training.\r\n",
            "   Hansen, who slugged the 1960 Oriole high of 22 homers\r\n",
            "and drove in 86 runs on a .255 freshman average, completes\r\n",
            "the Birds' spring squad at 49 players.\r\n",
            "   The big, 22-year-old shortstop, the 1960 American\r\n",
            "league \"rookie-of-the year\", flew here late this afternoon\r\n",
            "from Baltimore, signed his contract for an estimated\r\n",
            "$15,000 and was a spectator at tonight's 5-to-3 loss\r\n",
            "to Kansas City- the winless Birds' sixth setback in\r\n",
            "a row.\r\n",
            "#15 POUNDS LIGHTER#\r\n",
            "The 6-foot 3 inch Hansen checked in close to 200 pounds,\r\n",
            "15 pounds lighter than his reporting weight last spring.\r\n",
            "He hopes to melt off an additional eight pounds before\r\n",
            "the Flock breaks camp three weeks hence.\r\n",
            "   When he was inducted into the Army at Fort Knox,\r\n",
            "Ky&, Hansen's weight had dropped to 180- \"too light\r\n",
            "for me to be at my best\" he said.\r\n",
            "   \"I feel good physically\", Hansen added, \"but I think\r\n",
            "I'll move better carrying a little less weight than\r\n",
            "I'm carrying now\".\r\n",
            "#SEEKS \"IMPROVED FIELDING\"#\r\n",
            "The rangy, Albany (Cal&) native, a surprise slugging\r\n",
            "sensation for the Flock last year as well as a defensive\r\n",
            "whiz, set \"improved fielding\" as his 1961 goal.\r\n",
            "   \"I think I can do a better job with the glove, now\r\n",
            "that I know the hitters around the league a little\r\n",
            "better\", he said.\r\n",
            "   Hansen will engage in his first workout at Miami\r\n",
            "Stadium prior to the opening tomorrow night of a two-game\r\n",
            "weekend series with the New York Yankees.\r\n",
            "   Skinny Brown and Hoyt Wilhelm, the Flock's veteran\r\n",
            "knuckleball specialists, are slated to oppose the American\r\n",
            "League champions in tomorrow's 8 P&M& contest.\r\n",
            "#DUREN, SHELDON ON HILL#\r\n",
            "Ryne Duren and Roland Sheldon, a rookie righthander\r\n",
            "who posted a 15-1 record last year for the Yanks' Auburn\r\n",
            "(N&Y&) farm club of the Class-~D New York-Pennsylvania\r\n",
            "League, are the probable rival pitchers.\r\n",
            "   Twenty-one-year-old Milt Pappas and Jerry Walker,\r\n",
            "22, are scheduled to share the Oriole mound chores\r\n",
            "against the Bombers' Art Ditmar in Sunday's 2 P&M&\r\n",
            "encounter.\r\n",
            "   Ralph Houk, successor to Casey Stengel at the Yankee\r\n",
            "helm, plans to bring the entire New York squad here\r\n",
            "from St& Petersburg, including Joe Dimaggio and large\r\n",
            "crowds are anticipated for both weekend games. The\r\n",
            "famed Yankee Clipper, now retired, has been assisting\r\n",
            "as a batting coach.\r\n",
            "#SQUAD CUT NEAR#\r\n",
            "Pitcher Steve Barber joined the club one week ago after\r\n",
            "completing his hitch under the Army's accelerated wintertime\r\n",
            "military course, also at Fort Knox, Ky&. The 22-year-old\r\n",
            "southpaw enlisted earlier last fall than did Hansen.\r\n",
            "   Baltimore's bulky spring-training contingent now\r\n",
            "gradually will be reduced as Manager Paul Richards\r\n",
            "and his coaches seek to trim it down to a more streamlined\r\n",
            "and workable unit.\r\n",
            "#@#\r\n",
            "\"Take a ride on this one\", Brooks Robinson greeted\r\n",
            "Hansen as the Bird third sacker grabbed a bat, headed\r\n",
            "for the plate and bounced a third-inning two-run double\r\n",
            "off the left-centerfield wall tonight.\r\n",
            "   It was the first of two doubles by Robinson, who\r\n",
            "was in a mood to celebrate.\r\n",
            "   Just before game time, Robinson's pretty wife, Connie\r\n",
            "informed him that an addition to the family can be\r\n",
            "expected late next summer.\r\n",
            "   Unfortunately, Brooks' teammates were not in such\r\n",
            "festive mood as the Orioles expired before the seven-hit\r\n",
            "pitching of three Kansas City rookie hurlers.\r\n",
            "#@#\r\n",
            "Hansen arrived just before nightfall, two hours late,\r\n",
            "in company with Lee MacPhail; J& A& W& Iglehart, chairman\r\n",
            "of the Oriole board of directors, and Public Relations\r\n",
            "Director Jack Dunn.\r\n",
            "   Their flight was delayed, Dunn said, when a boarding\r\n",
            "ramp inflicted some minor damage to the wing of the\r\n",
            "plane.\r\n",
            "#@#\r\n",
            "Ex-Oriole Clint Courtney, now catching for the ~A's\r\n",
            "is all for the American League's 1961 expansion to\r\n",
            "the West Coast.\r\n",
            "   \"But they shouldda brought in Tokyo, too\", added\r\n",
            "Old Scrapiron. \"Then we'd really have someplace to\r\n",
            "go\".\r\n",
            "_BOWIE, MD&, MARCH 17_\r\n",
            "   - Gaining her second straight victory, Norman B&,\r\n",
            "Small, Jr&'s Garden Fresh, a 3-year-old filly, downed\r\n",
            "promising colts in the $4,500 St& Patrick's Day Purse,\r\n",
            "featured seventh race here today, and paid $7.20 straight.\r\n",
            "   Toying with her field in the early stages, Garden\r\n",
            "Fresh was asked for top speed only in the stretch by\r\n",
            "Jockey Philip Grimm and won by a length and a half\r\n",
            "in 1.24 3-5 for the 7 furlongs.\r\n",
            "#8,280 ATTEND RACES#\r\n",
            "Richard M& Forbes's Paget, which had what seemed to\r\n",
            "be a substantial lead in the early stages, tired rapidly\r\n",
            "nearing the wire and was able to save place money only\r\n",
            "a head in front of Glen T& Hallowell's Milties Miss.\r\n",
            "   A bright sun and brisk wind had the track in a fast\r\n",
            "condition for the first time this week and 8,280 St&\r\n",
            "Patty Day celebrants bet $842,617 on the well-prepared\r\n",
            "program.\r\n",
            "   Prior to the featured race, the stewards announced\r\n",
            "that apprentice James P& Verrone is suspended ten days\r\n",
            "for crowding horses and crossing the field sharply\r\n",
            "in two races on Wednesday.\r\n",
            "#CULMONE GETS FIRST WIN#\r\n",
            "Garden Fresh, the result of a mating of Better Self\r\n",
            "and Rosy Fingered, seems to improve with each start\r\n",
            "and appeared to win the St& Patrick's Day Purse with\r\n",
            "some speed in reserve. She was moving up to the allowance\r\n",
            "department after winning a $10,000 claiming event.\r\n",
            "_CLEVELAND, MARCH 17 (~AP)_\r\n",
            "   - George Kerr, the swift-striding Jamaican, set\r\n",
            "a meet record in the 600-yard run in the Knights of\r\n",
            "Columbus track meet tonight, beating Purdue's Dave\r\n",
            "Mills in a hot duel in 1.10.1.\r\n",
            "   Kerr, who set the world record earlier this month\r\n",
            "in New York with a clocking of 1.09.3, wiped out Mills's\r\n",
            "early pace and beat the young Big 10 quarter-mile king\r\n",
            "by 5 yards. Both were under the meet mark of 1.10.8\r\n",
            "set in 1950 by Mal Whitfield.\r\n",
            "   Mills shot out in front and kept the lead through\r\n",
            "two thirds of the race. Then Kerr, a graduate student\r\n",
            "from Illinois, moved past him on a straightaway and\r\n",
            "held off Mills's challenge on the final turn. Mills\r\n",
            "was timed in 1.10.4.\r\n",
            "   The crowd at the twenty-first annual K& of C& Games,\r\n",
            "final indoor meet of the season, got a thrill a few\r\n",
            "minutes earlier when a slender, bespectacled woman\r\n",
            "broke the one-week-old world record in the half-mile\r\n",
            "run.\r\n",
            "   Mrs& Grace Butcher, of nearby Chardon, a 27-year-old\r\n",
            "housewife who has two children, finished in 2.21.6.\r\n",
            "She snapped five tenths of a second off the mark set\r\n",
            "by Helen Shipley, of Wellsley College, in the National\r\n",
            "A&A&U& meet in Columbus, Ohio.\r\n",
            "_SAN FRANCISCO, MARCH 17 (~AP)_\r\n",
            "   - Bobby Waters of Sylvania, Ga&, relief quarterback\r\n",
            "for the San Francisco 49ers of the National Football\r\n",
            "League, will undergo a knee operation tomorrow at Franklin\r\n",
            "Hospital here.\r\n",
            "   Waters injured his left knee in the last game of\r\n",
            "the 1960 season. While working out in Sylvania a swelling\r\n",
            "developed in the knee and he came here to consult the\r\n",
            "team physician.\r\n",
            "_ST& PETERSBURG, FLA&, MARCH 17 (~AP)_\r\n",
            "   - Two errors by New York Yankee shortstop Tony Kubek\r\n",
            "in the eleventh inning donated four unearned runs and\r\n",
            "a 5-to-2 victory to the Chicago White Sox today.\r\n",
            "\n"
          ]
        }
      ],
      "source": [
        "# print the text of document 10\n",
        "docid = 10\n",
        "print(brown_corpus[docid])"
      ]
    },
    {
      "cell_type": "markdown",
      "metadata": {
        "id": "M6e7s-yKfIc9"
      },
      "source": [
        "The full text of each document is hosted at the url `https://storage.googleapis.com/wd13/brown_corpus/<docid>.txt` where `<docid>` is the index of the document in `brown_corpus`. "
      ]
    },
    {
      "cell_type": "code",
      "execution_count": null,
      "metadata": {
        "colab": {
          "base_uri": "https://localhost:8080/"
        },
        "id": "LIIYL6vsa6M6",
        "outputId": "559831cb-f2e4-44d6-dc59-e989925dc0e0"
      },
      "outputs": [
        {
          "output_type": "stream",
          "name": "stdout",
          "text": [
            "https://storage.googleapis.com/wd13/brown_corpus/102.txt\n"
          ]
        }
      ],
      "source": [
        "# print the url for document 102\n",
        "docid = 102\n",
        "print(\"https://storage.googleapis.com/wd13/brown_corpus/\"+str(docid)+'.txt')"
      ]
    },
    {
      "cell_type": "markdown",
      "metadata": {
        "id": "kuihr-nKCrq6"
      },
      "source": [
        "# Create a tokenizer"
      ]
    },
    {
      "cell_type": "markdown",
      "metadata": {
        "id": "6l-a_brkP2c3"
      },
      "source": [
        "Write a function `tokenize` that takes a string and returns a list of tokens. "
      ]
    },
    {
      "cell_type": "code",
      "execution_count": null,
      "metadata": {
        "id": "Jgg8XrkhC1CB"
      },
      "outputs": [],
      "source": [
        "import urllib.request, json \n",
        "with urllib.request.urlopen(\"https://storage.googleapis.com/wd13/stopwords%20and%20lemmas.json\") as url: #import the a dictionary of words as url-->to include lemma and stopwords\n",
        "  data = json.load(url) #the data in url has no datatype-->use json.load to load the data as dictionary\n",
        "  stopwords = data['stopwords'] #the link is a dictionary format, stopwords is the key which store the list of words that should be excluded\n",
        "  lemmas = data['lemmas'] #lemmas is a list of words that is the simplified. e.g. abandoned = abandon\n",
        "\n",
        "\n",
        "import re\n",
        "def tokenize(doc):\n",
        "  lowercase_doc = doc.lower()\n",
        "  re_pattern = r'[A-Za-z0-9]+' #r make it as string, + is to ...\n",
        "  raw_tokens = re.findall(re_pattern,lowercase_doc)\n",
        "  clean_tokens = []\n",
        "  for token in raw_tokens:\n",
        "    if token not in stopwords:\n",
        "      if token in lemmas:\n",
        "        lemma = lemmas[token]\n",
        "      else:\n",
        "        lemma = token\n",
        "      clean_tokens.append(lemma)\n",
        "  return(clean_tokens)\n",
        "\n"
      ]
    },
    {
      "cell_type": "markdown",
      "metadata": {
        "id": "dxttX-SIh1oi"
      },
      "source": [
        "# Create a Search Index"
      ]
    },
    {
      "cell_type": "markdown",
      "metadata": {
        "id": "1D5FlYbhi5lJ"
      },
      "source": [
        "Create a dictionary called `search_index`. The keys in `search_index` will be the tokens in `brown_corpus`. Each token will be linked to a set containing the indexes of the documents that contain that token. \n",
        "\n",
        "For example, the token 'ski' occurs in documents 109, 120, 148, 174, 457, and 482. Therefore, \n",
        "\n",
        "`search_index['ski']`\n",
        "\n",
        "will return the following set of document indexes\n",
        "\n",
        "`{109, 120, 148, 174, 457, 482}`"
      ]
    },
    {
      "cell_type": "code",
      "execution_count": null,
      "metadata": {
        "id": "8zPLVa33h3IS"
      },
      "outputs": [],
      "source": [
        "search_index = {}                               #create empty dictionary\n",
        "for index in range(0,len(brown_corpus)):        #for loop create iteration (index) for the brown_corpus index\n",
        "  for token in tokenize(brown_corpus[index]):   #for loop tokenize brown_corpus\n",
        "    if token in search_index:                   #check if token in search_index\n",
        "      search_index[token].add(index)            #Add token to exisiting dictionary set\n",
        "    else:\n",
        "      search_index[token] = {index}             #Add token as set (not list) Eg. dictionary set--> {Apple:{1,2,3}} ; dictionary list--> {Apple:[1,2]}\n",
        "\n",
        "#search_index[token] = {index} is a set, need to use .add to add value\n",
        "#search_index[token] = [index] is a list, need to use .append to add value\n",
        "#the difference is set can generate value without duplicated"
      ]
    },
    {
      "cell_type": "code",
      "execution_count": null,
      "metadata": {
        "colab": {
          "base_uri": "https://localhost:8080/"
        },
        "id": "AIqwRoklFQS2",
        "outputId": "4c444687-0e59-43e6-9d3b-9093778199aa"
      },
      "outputs": [
        {
          "output_type": "execute_result",
          "data": {
            "text/plain": [
              "{109, 120, 148, 174, 457, 482}"
            ]
          },
          "metadata": {},
          "execution_count": 75
        }
      ],
      "source": [
        "search_index['ski']"
      ]
    },
    {
      "cell_type": "markdown",
      "metadata": {
        "id": "e6rrKlK0kY77"
      },
      "source": [
        "# Create a Function for \"AND\" Queries"
      ]
    },
    {
      "cell_type": "markdown",
      "metadata": {
        "id": "jn6rOE5JnPqb"
      },
      "source": [
        "Write a funciton `query_and` that \n",
        "* takes a query string `q`\n",
        "* tokenizes `q`\n",
        "* finds all of the documents in `brown_corpus` that contain *all* of the tokens in `q`\n",
        "* prints links to each of those documents"
      ]
    },
    {
      "cell_type": "code",
      "execution_count": null,
      "metadata": {
        "id": "ss48vDhckZMy"
      },
      "outputs": [],
      "source": [
        "#Objective: to create a function that can find all of the documents in brown_corpus with the condition 'AND'\n",
        "\n",
        "\n",
        "def query_and(q):\n",
        "  list_of_sets = []\n",
        "  for token in tokenize(q):                                                                           #First tokenize q\n",
        "    list_of_sets.append(search_index[token])                                                          #search_index the token and Out-put will be a set. Append the result of search_index to be a list\n",
        "  list_of_docid = list(list_of_sets[0].intersection(*list_of_sets))                                   #generate a list with condition\n",
        "  print(list_of_docid)\n",
        "  for index in range(0,len(list_of_docid)):                                                           #iteration of the list\n",
        "    print(\"https://storage.googleapis.com/wd13/brown_corpus/\"+ str(list_of_docid[index]) +'.txt')"
      ]
    },
    {
      "cell_type": "markdown",
      "metadata": {
        "id": "8PAGUTGUojPZ"
      },
      "source": [
        "# Create a Function for \"OR\" Queries"
      ]
    },
    {
      "cell_type": "markdown",
      "metadata": {
        "id": "lNXO_RKMojPZ"
      },
      "source": [
        "Write a funciton `query_or` that \n",
        "* takes a query string `q`\n",
        "* tokenizes `q`\n",
        "* finds all of the documents in `brown_corpus` that contain *any* of the tokens in `q`\n",
        "* prints links to each of those documents"
      ]
    },
    {
      "cell_type": "code",
      "execution_count": null,
      "metadata": {
        "id": "dUKZfmeAojPZ"
      },
      "outputs": [],
      "source": [
        "\n",
        "def query_or(q):\n",
        "  list_of_sets = []\n",
        "  for token in tokenize(q):\n",
        "    list_of_sets.append(search_index[token])\n",
        "  list_of_docid = list(list_of_sets[0].union(*list_of_sets))\n",
        "  print(list_of_docid)\n",
        "  for index in range(0,len(list_of_docid)):\n",
        "    print(\"https://storage.googleapis.com/wd13/brown_corpus/\"+ str(list_of_docid[index]) +'.txt')"
      ]
    },
    {
      "cell_type": "markdown",
      "metadata": {
        "id": "A7ewBuuZp0ls"
      },
      "source": [
        "# Try Different Queries"
      ]
    },
    {
      "cell_type": "markdown",
      "metadata": {
        "id": "EfcbJafIp5UA"
      },
      "source": [
        "Test out both your `query_and` and `query_or` functions. "
      ]
    },
    {
      "cell_type": "code",
      "execution_count": null,
      "metadata": {
        "colab": {
          "base_uri": "https://localhost:8080/"
        },
        "id": "BomOvFhIqHXy",
        "outputId": "0f502055-4701-436b-acac-a77efbd3a021"
      },
      "outputs": [
        {
          "output_type": "stream",
          "name": "stdout",
          "text": [
            "[328, 494, 239, 431, 435, 57]\n",
            "https://storage.googleapis.com/wd13/brown_corpus/328.txt\n",
            "https://storage.googleapis.com/wd13/brown_corpus/494.txt\n",
            "https://storage.googleapis.com/wd13/brown_corpus/239.txt\n",
            "https://storage.googleapis.com/wd13/brown_corpus/431.txt\n",
            "https://storage.googleapis.com/wd13/brown_corpus/435.txt\n",
            "https://storage.googleapis.com/wd13/brown_corpus/57.txt\n"
          ]
        }
      ],
      "source": [
        "query_and('hello world')"
      ]
    },
    {
      "cell_type": "code",
      "execution_count": null,
      "metadata": {
        "colab": {
          "base_uri": "https://localhost:8080/"
        },
        "id": "nhXEHRoTp4B9",
        "outputId": "3ddc0161-1dc0-4ebc-e5fb-ae60ff8fafe8"
      },
      "outputs": [
        {
          "output_type": "stream",
          "name": "stdout",
          "text": [
            "[3, 5, 7, 9, 10, 12, 13, 14, 15, 16, 19, 20, 21, 24, 25, 26, 28, 30, 33, 34, 35, 36, 37, 38, 40, 41, 42, 43, 44, 45, 47, 48, 49, 50, 52, 53, 54, 56, 57, 60, 61, 62, 63, 64, 66, 67, 68, 69, 70, 71, 72, 73, 74, 75, 77, 78, 79, 80, 83, 84, 87, 88, 89, 90, 91, 92, 93, 95, 96, 97, 98, 99, 101, 102, 103, 104, 105, 106, 107, 108, 110, 111, 113, 114, 116, 120, 121, 122, 130, 131, 139, 140, 142, 145, 146, 147, 149, 150, 152, 153, 154, 158, 159, 163, 165, 166, 167, 168, 169, 171, 174, 176, 177, 178, 181, 182, 183, 186, 188, 190, 191, 192, 193, 194, 195, 197, 198, 199, 200, 201, 203, 204, 205, 206, 207, 208, 209, 210, 211, 213, 214, 215, 216, 219, 220, 221, 223, 224, 225, 226, 227, 228, 229, 230, 231, 234, 236, 238, 239, 240, 241, 243, 244, 245, 247, 252, 253, 254, 255, 257, 258, 261, 263, 264, 265, 266, 267, 269, 270, 273, 275, 276, 277, 280, 285, 286, 289, 292, 293, 294, 296, 297, 319, 320, 322, 324, 325, 328, 332, 333, 335, 337, 338, 339, 343, 346, 348, 349, 351, 354, 357, 359, 360, 361, 362, 363, 365, 368, 371, 380, 382, 383, 386, 387, 388, 389, 392, 394, 395, 396, 397, 399, 400, 402, 405, 406, 414, 416, 417, 418, 420, 428, 431, 432, 433, 434, 435, 440, 444, 445, 447, 449, 451, 455, 456, 457, 459, 462, 467, 469, 470, 471, 473, 474, 475, 477, 479, 480, 483, 484, 486, 487, 488, 493, 494, 495, 496, 497, 498, 500, 501]\n",
            "https://storage.googleapis.com/wd13/brown_corpus/3.txt\n",
            "https://storage.googleapis.com/wd13/brown_corpus/5.txt\n",
            "https://storage.googleapis.com/wd13/brown_corpus/7.txt\n",
            "https://storage.googleapis.com/wd13/brown_corpus/9.txt\n",
            "https://storage.googleapis.com/wd13/brown_corpus/10.txt\n",
            "https://storage.googleapis.com/wd13/brown_corpus/12.txt\n",
            "https://storage.googleapis.com/wd13/brown_corpus/13.txt\n",
            "https://storage.googleapis.com/wd13/brown_corpus/14.txt\n",
            "https://storage.googleapis.com/wd13/brown_corpus/15.txt\n",
            "https://storage.googleapis.com/wd13/brown_corpus/16.txt\n",
            "https://storage.googleapis.com/wd13/brown_corpus/19.txt\n",
            "https://storage.googleapis.com/wd13/brown_corpus/20.txt\n",
            "https://storage.googleapis.com/wd13/brown_corpus/21.txt\n",
            "https://storage.googleapis.com/wd13/brown_corpus/24.txt\n",
            "https://storage.googleapis.com/wd13/brown_corpus/25.txt\n",
            "https://storage.googleapis.com/wd13/brown_corpus/26.txt\n",
            "https://storage.googleapis.com/wd13/brown_corpus/28.txt\n",
            "https://storage.googleapis.com/wd13/brown_corpus/30.txt\n",
            "https://storage.googleapis.com/wd13/brown_corpus/33.txt\n",
            "https://storage.googleapis.com/wd13/brown_corpus/34.txt\n",
            "https://storage.googleapis.com/wd13/brown_corpus/35.txt\n",
            "https://storage.googleapis.com/wd13/brown_corpus/36.txt\n",
            "https://storage.googleapis.com/wd13/brown_corpus/37.txt\n",
            "https://storage.googleapis.com/wd13/brown_corpus/38.txt\n",
            "https://storage.googleapis.com/wd13/brown_corpus/40.txt\n",
            "https://storage.googleapis.com/wd13/brown_corpus/41.txt\n",
            "https://storage.googleapis.com/wd13/brown_corpus/42.txt\n",
            "https://storage.googleapis.com/wd13/brown_corpus/43.txt\n",
            "https://storage.googleapis.com/wd13/brown_corpus/44.txt\n",
            "https://storage.googleapis.com/wd13/brown_corpus/45.txt\n",
            "https://storage.googleapis.com/wd13/brown_corpus/47.txt\n",
            "https://storage.googleapis.com/wd13/brown_corpus/48.txt\n",
            "https://storage.googleapis.com/wd13/brown_corpus/49.txt\n",
            "https://storage.googleapis.com/wd13/brown_corpus/50.txt\n",
            "https://storage.googleapis.com/wd13/brown_corpus/52.txt\n",
            "https://storage.googleapis.com/wd13/brown_corpus/53.txt\n",
            "https://storage.googleapis.com/wd13/brown_corpus/54.txt\n",
            "https://storage.googleapis.com/wd13/brown_corpus/56.txt\n",
            "https://storage.googleapis.com/wd13/brown_corpus/57.txt\n",
            "https://storage.googleapis.com/wd13/brown_corpus/60.txt\n",
            "https://storage.googleapis.com/wd13/brown_corpus/61.txt\n",
            "https://storage.googleapis.com/wd13/brown_corpus/62.txt\n",
            "https://storage.googleapis.com/wd13/brown_corpus/63.txt\n",
            "https://storage.googleapis.com/wd13/brown_corpus/64.txt\n",
            "https://storage.googleapis.com/wd13/brown_corpus/66.txt\n",
            "https://storage.googleapis.com/wd13/brown_corpus/67.txt\n",
            "https://storage.googleapis.com/wd13/brown_corpus/68.txt\n",
            "https://storage.googleapis.com/wd13/brown_corpus/69.txt\n",
            "https://storage.googleapis.com/wd13/brown_corpus/70.txt\n",
            "https://storage.googleapis.com/wd13/brown_corpus/71.txt\n",
            "https://storage.googleapis.com/wd13/brown_corpus/72.txt\n",
            "https://storage.googleapis.com/wd13/brown_corpus/73.txt\n",
            "https://storage.googleapis.com/wd13/brown_corpus/74.txt\n",
            "https://storage.googleapis.com/wd13/brown_corpus/75.txt\n",
            "https://storage.googleapis.com/wd13/brown_corpus/77.txt\n",
            "https://storage.googleapis.com/wd13/brown_corpus/78.txt\n",
            "https://storage.googleapis.com/wd13/brown_corpus/79.txt\n",
            "https://storage.googleapis.com/wd13/brown_corpus/80.txt\n",
            "https://storage.googleapis.com/wd13/brown_corpus/83.txt\n",
            "https://storage.googleapis.com/wd13/brown_corpus/84.txt\n",
            "https://storage.googleapis.com/wd13/brown_corpus/87.txt\n",
            "https://storage.googleapis.com/wd13/brown_corpus/88.txt\n",
            "https://storage.googleapis.com/wd13/brown_corpus/89.txt\n",
            "https://storage.googleapis.com/wd13/brown_corpus/90.txt\n",
            "https://storage.googleapis.com/wd13/brown_corpus/91.txt\n",
            "https://storage.googleapis.com/wd13/brown_corpus/92.txt\n",
            "https://storage.googleapis.com/wd13/brown_corpus/93.txt\n",
            "https://storage.googleapis.com/wd13/brown_corpus/95.txt\n",
            "https://storage.googleapis.com/wd13/brown_corpus/96.txt\n",
            "https://storage.googleapis.com/wd13/brown_corpus/97.txt\n",
            "https://storage.googleapis.com/wd13/brown_corpus/98.txt\n",
            "https://storage.googleapis.com/wd13/brown_corpus/99.txt\n",
            "https://storage.googleapis.com/wd13/brown_corpus/101.txt\n",
            "https://storage.googleapis.com/wd13/brown_corpus/102.txt\n",
            "https://storage.googleapis.com/wd13/brown_corpus/103.txt\n",
            "https://storage.googleapis.com/wd13/brown_corpus/104.txt\n",
            "https://storage.googleapis.com/wd13/brown_corpus/105.txt\n",
            "https://storage.googleapis.com/wd13/brown_corpus/106.txt\n",
            "https://storage.googleapis.com/wd13/brown_corpus/107.txt\n",
            "https://storage.googleapis.com/wd13/brown_corpus/108.txt\n",
            "https://storage.googleapis.com/wd13/brown_corpus/110.txt\n",
            "https://storage.googleapis.com/wd13/brown_corpus/111.txt\n",
            "https://storage.googleapis.com/wd13/brown_corpus/113.txt\n",
            "https://storage.googleapis.com/wd13/brown_corpus/114.txt\n",
            "https://storage.googleapis.com/wd13/brown_corpus/116.txt\n",
            "https://storage.googleapis.com/wd13/brown_corpus/120.txt\n",
            "https://storage.googleapis.com/wd13/brown_corpus/121.txt\n",
            "https://storage.googleapis.com/wd13/brown_corpus/122.txt\n",
            "https://storage.googleapis.com/wd13/brown_corpus/130.txt\n",
            "https://storage.googleapis.com/wd13/brown_corpus/131.txt\n",
            "https://storage.googleapis.com/wd13/brown_corpus/139.txt\n",
            "https://storage.googleapis.com/wd13/brown_corpus/140.txt\n",
            "https://storage.googleapis.com/wd13/brown_corpus/142.txt\n",
            "https://storage.googleapis.com/wd13/brown_corpus/145.txt\n",
            "https://storage.googleapis.com/wd13/brown_corpus/146.txt\n",
            "https://storage.googleapis.com/wd13/brown_corpus/147.txt\n",
            "https://storage.googleapis.com/wd13/brown_corpus/149.txt\n",
            "https://storage.googleapis.com/wd13/brown_corpus/150.txt\n",
            "https://storage.googleapis.com/wd13/brown_corpus/152.txt\n",
            "https://storage.googleapis.com/wd13/brown_corpus/153.txt\n",
            "https://storage.googleapis.com/wd13/brown_corpus/154.txt\n",
            "https://storage.googleapis.com/wd13/brown_corpus/158.txt\n",
            "https://storage.googleapis.com/wd13/brown_corpus/159.txt\n",
            "https://storage.googleapis.com/wd13/brown_corpus/163.txt\n",
            "https://storage.googleapis.com/wd13/brown_corpus/165.txt\n",
            "https://storage.googleapis.com/wd13/brown_corpus/166.txt\n",
            "https://storage.googleapis.com/wd13/brown_corpus/167.txt\n",
            "https://storage.googleapis.com/wd13/brown_corpus/168.txt\n",
            "https://storage.googleapis.com/wd13/brown_corpus/169.txt\n",
            "https://storage.googleapis.com/wd13/brown_corpus/171.txt\n",
            "https://storage.googleapis.com/wd13/brown_corpus/174.txt\n",
            "https://storage.googleapis.com/wd13/brown_corpus/176.txt\n",
            "https://storage.googleapis.com/wd13/brown_corpus/177.txt\n",
            "https://storage.googleapis.com/wd13/brown_corpus/178.txt\n",
            "https://storage.googleapis.com/wd13/brown_corpus/181.txt\n",
            "https://storage.googleapis.com/wd13/brown_corpus/182.txt\n",
            "https://storage.googleapis.com/wd13/brown_corpus/183.txt\n",
            "https://storage.googleapis.com/wd13/brown_corpus/186.txt\n",
            "https://storage.googleapis.com/wd13/brown_corpus/188.txt\n",
            "https://storage.googleapis.com/wd13/brown_corpus/190.txt\n",
            "https://storage.googleapis.com/wd13/brown_corpus/191.txt\n",
            "https://storage.googleapis.com/wd13/brown_corpus/192.txt\n",
            "https://storage.googleapis.com/wd13/brown_corpus/193.txt\n",
            "https://storage.googleapis.com/wd13/brown_corpus/194.txt\n",
            "https://storage.googleapis.com/wd13/brown_corpus/195.txt\n",
            "https://storage.googleapis.com/wd13/brown_corpus/197.txt\n",
            "https://storage.googleapis.com/wd13/brown_corpus/198.txt\n",
            "https://storage.googleapis.com/wd13/brown_corpus/199.txt\n",
            "https://storage.googleapis.com/wd13/brown_corpus/200.txt\n",
            "https://storage.googleapis.com/wd13/brown_corpus/201.txt\n",
            "https://storage.googleapis.com/wd13/brown_corpus/203.txt\n",
            "https://storage.googleapis.com/wd13/brown_corpus/204.txt\n",
            "https://storage.googleapis.com/wd13/brown_corpus/205.txt\n",
            "https://storage.googleapis.com/wd13/brown_corpus/206.txt\n",
            "https://storage.googleapis.com/wd13/brown_corpus/207.txt\n",
            "https://storage.googleapis.com/wd13/brown_corpus/208.txt\n",
            "https://storage.googleapis.com/wd13/brown_corpus/209.txt\n",
            "https://storage.googleapis.com/wd13/brown_corpus/210.txt\n",
            "https://storage.googleapis.com/wd13/brown_corpus/211.txt\n",
            "https://storage.googleapis.com/wd13/brown_corpus/213.txt\n",
            "https://storage.googleapis.com/wd13/brown_corpus/214.txt\n",
            "https://storage.googleapis.com/wd13/brown_corpus/215.txt\n",
            "https://storage.googleapis.com/wd13/brown_corpus/216.txt\n",
            "https://storage.googleapis.com/wd13/brown_corpus/219.txt\n",
            "https://storage.googleapis.com/wd13/brown_corpus/220.txt\n",
            "https://storage.googleapis.com/wd13/brown_corpus/221.txt\n",
            "https://storage.googleapis.com/wd13/brown_corpus/223.txt\n",
            "https://storage.googleapis.com/wd13/brown_corpus/224.txt\n",
            "https://storage.googleapis.com/wd13/brown_corpus/225.txt\n",
            "https://storage.googleapis.com/wd13/brown_corpus/226.txt\n",
            "https://storage.googleapis.com/wd13/brown_corpus/227.txt\n",
            "https://storage.googleapis.com/wd13/brown_corpus/228.txt\n",
            "https://storage.googleapis.com/wd13/brown_corpus/229.txt\n",
            "https://storage.googleapis.com/wd13/brown_corpus/230.txt\n",
            "https://storage.googleapis.com/wd13/brown_corpus/231.txt\n",
            "https://storage.googleapis.com/wd13/brown_corpus/234.txt\n",
            "https://storage.googleapis.com/wd13/brown_corpus/236.txt\n",
            "https://storage.googleapis.com/wd13/brown_corpus/238.txt\n",
            "https://storage.googleapis.com/wd13/brown_corpus/239.txt\n",
            "https://storage.googleapis.com/wd13/brown_corpus/240.txt\n",
            "https://storage.googleapis.com/wd13/brown_corpus/241.txt\n",
            "https://storage.googleapis.com/wd13/brown_corpus/243.txt\n",
            "https://storage.googleapis.com/wd13/brown_corpus/244.txt\n",
            "https://storage.googleapis.com/wd13/brown_corpus/245.txt\n",
            "https://storage.googleapis.com/wd13/brown_corpus/247.txt\n",
            "https://storage.googleapis.com/wd13/brown_corpus/252.txt\n",
            "https://storage.googleapis.com/wd13/brown_corpus/253.txt\n",
            "https://storage.googleapis.com/wd13/brown_corpus/254.txt\n",
            "https://storage.googleapis.com/wd13/brown_corpus/255.txt\n",
            "https://storage.googleapis.com/wd13/brown_corpus/257.txt\n",
            "https://storage.googleapis.com/wd13/brown_corpus/258.txt\n",
            "https://storage.googleapis.com/wd13/brown_corpus/261.txt\n",
            "https://storage.googleapis.com/wd13/brown_corpus/263.txt\n",
            "https://storage.googleapis.com/wd13/brown_corpus/264.txt\n",
            "https://storage.googleapis.com/wd13/brown_corpus/265.txt\n",
            "https://storage.googleapis.com/wd13/brown_corpus/266.txt\n",
            "https://storage.googleapis.com/wd13/brown_corpus/267.txt\n",
            "https://storage.googleapis.com/wd13/brown_corpus/269.txt\n",
            "https://storage.googleapis.com/wd13/brown_corpus/270.txt\n",
            "https://storage.googleapis.com/wd13/brown_corpus/273.txt\n",
            "https://storage.googleapis.com/wd13/brown_corpus/275.txt\n",
            "https://storage.googleapis.com/wd13/brown_corpus/276.txt\n",
            "https://storage.googleapis.com/wd13/brown_corpus/277.txt\n",
            "https://storage.googleapis.com/wd13/brown_corpus/280.txt\n",
            "https://storage.googleapis.com/wd13/brown_corpus/285.txt\n",
            "https://storage.googleapis.com/wd13/brown_corpus/286.txt\n",
            "https://storage.googleapis.com/wd13/brown_corpus/289.txt\n",
            "https://storage.googleapis.com/wd13/brown_corpus/292.txt\n",
            "https://storage.googleapis.com/wd13/brown_corpus/293.txt\n",
            "https://storage.googleapis.com/wd13/brown_corpus/294.txt\n",
            "https://storage.googleapis.com/wd13/brown_corpus/296.txt\n",
            "https://storage.googleapis.com/wd13/brown_corpus/297.txt\n",
            "https://storage.googleapis.com/wd13/brown_corpus/319.txt\n",
            "https://storage.googleapis.com/wd13/brown_corpus/320.txt\n",
            "https://storage.googleapis.com/wd13/brown_corpus/322.txt\n",
            "https://storage.googleapis.com/wd13/brown_corpus/324.txt\n",
            "https://storage.googleapis.com/wd13/brown_corpus/325.txt\n",
            "https://storage.googleapis.com/wd13/brown_corpus/328.txt\n",
            "https://storage.googleapis.com/wd13/brown_corpus/332.txt\n",
            "https://storage.googleapis.com/wd13/brown_corpus/333.txt\n",
            "https://storage.googleapis.com/wd13/brown_corpus/335.txt\n",
            "https://storage.googleapis.com/wd13/brown_corpus/337.txt\n",
            "https://storage.googleapis.com/wd13/brown_corpus/338.txt\n",
            "https://storage.googleapis.com/wd13/brown_corpus/339.txt\n",
            "https://storage.googleapis.com/wd13/brown_corpus/343.txt\n",
            "https://storage.googleapis.com/wd13/brown_corpus/346.txt\n",
            "https://storage.googleapis.com/wd13/brown_corpus/348.txt\n",
            "https://storage.googleapis.com/wd13/brown_corpus/349.txt\n",
            "https://storage.googleapis.com/wd13/brown_corpus/351.txt\n",
            "https://storage.googleapis.com/wd13/brown_corpus/354.txt\n",
            "https://storage.googleapis.com/wd13/brown_corpus/357.txt\n",
            "https://storage.googleapis.com/wd13/brown_corpus/359.txt\n",
            "https://storage.googleapis.com/wd13/brown_corpus/360.txt\n",
            "https://storage.googleapis.com/wd13/brown_corpus/361.txt\n",
            "https://storage.googleapis.com/wd13/brown_corpus/362.txt\n",
            "https://storage.googleapis.com/wd13/brown_corpus/363.txt\n",
            "https://storage.googleapis.com/wd13/brown_corpus/365.txt\n",
            "https://storage.googleapis.com/wd13/brown_corpus/368.txt\n",
            "https://storage.googleapis.com/wd13/brown_corpus/371.txt\n",
            "https://storage.googleapis.com/wd13/brown_corpus/380.txt\n",
            "https://storage.googleapis.com/wd13/brown_corpus/382.txt\n",
            "https://storage.googleapis.com/wd13/brown_corpus/383.txt\n",
            "https://storage.googleapis.com/wd13/brown_corpus/386.txt\n",
            "https://storage.googleapis.com/wd13/brown_corpus/387.txt\n",
            "https://storage.googleapis.com/wd13/brown_corpus/388.txt\n",
            "https://storage.googleapis.com/wd13/brown_corpus/389.txt\n",
            "https://storage.googleapis.com/wd13/brown_corpus/392.txt\n",
            "https://storage.googleapis.com/wd13/brown_corpus/394.txt\n",
            "https://storage.googleapis.com/wd13/brown_corpus/395.txt\n",
            "https://storage.googleapis.com/wd13/brown_corpus/396.txt\n",
            "https://storage.googleapis.com/wd13/brown_corpus/397.txt\n",
            "https://storage.googleapis.com/wd13/brown_corpus/399.txt\n",
            "https://storage.googleapis.com/wd13/brown_corpus/400.txt\n",
            "https://storage.googleapis.com/wd13/brown_corpus/402.txt\n",
            "https://storage.googleapis.com/wd13/brown_corpus/405.txt\n",
            "https://storage.googleapis.com/wd13/brown_corpus/406.txt\n",
            "https://storage.googleapis.com/wd13/brown_corpus/414.txt\n",
            "https://storage.googleapis.com/wd13/brown_corpus/416.txt\n",
            "https://storage.googleapis.com/wd13/brown_corpus/417.txt\n",
            "https://storage.googleapis.com/wd13/brown_corpus/418.txt\n",
            "https://storage.googleapis.com/wd13/brown_corpus/420.txt\n",
            "https://storage.googleapis.com/wd13/brown_corpus/428.txt\n",
            "https://storage.googleapis.com/wd13/brown_corpus/431.txt\n",
            "https://storage.googleapis.com/wd13/brown_corpus/432.txt\n",
            "https://storage.googleapis.com/wd13/brown_corpus/433.txt\n",
            "https://storage.googleapis.com/wd13/brown_corpus/434.txt\n",
            "https://storage.googleapis.com/wd13/brown_corpus/435.txt\n",
            "https://storage.googleapis.com/wd13/brown_corpus/440.txt\n",
            "https://storage.googleapis.com/wd13/brown_corpus/444.txt\n",
            "https://storage.googleapis.com/wd13/brown_corpus/445.txt\n",
            "https://storage.googleapis.com/wd13/brown_corpus/447.txt\n",
            "https://storage.googleapis.com/wd13/brown_corpus/449.txt\n",
            "https://storage.googleapis.com/wd13/brown_corpus/451.txt\n",
            "https://storage.googleapis.com/wd13/brown_corpus/455.txt\n",
            "https://storage.googleapis.com/wd13/brown_corpus/456.txt\n",
            "https://storage.googleapis.com/wd13/brown_corpus/457.txt\n",
            "https://storage.googleapis.com/wd13/brown_corpus/459.txt\n",
            "https://storage.googleapis.com/wd13/brown_corpus/462.txt\n",
            "https://storage.googleapis.com/wd13/brown_corpus/467.txt\n",
            "https://storage.googleapis.com/wd13/brown_corpus/469.txt\n",
            "https://storage.googleapis.com/wd13/brown_corpus/470.txt\n",
            "https://storage.googleapis.com/wd13/brown_corpus/471.txt\n",
            "https://storage.googleapis.com/wd13/brown_corpus/473.txt\n",
            "https://storage.googleapis.com/wd13/brown_corpus/474.txt\n",
            "https://storage.googleapis.com/wd13/brown_corpus/475.txt\n",
            "https://storage.googleapis.com/wd13/brown_corpus/477.txt\n",
            "https://storage.googleapis.com/wd13/brown_corpus/479.txt\n",
            "https://storage.googleapis.com/wd13/brown_corpus/480.txt\n",
            "https://storage.googleapis.com/wd13/brown_corpus/483.txt\n",
            "https://storage.googleapis.com/wd13/brown_corpus/484.txt\n",
            "https://storage.googleapis.com/wd13/brown_corpus/486.txt\n",
            "https://storage.googleapis.com/wd13/brown_corpus/487.txt\n",
            "https://storage.googleapis.com/wd13/brown_corpus/488.txt\n",
            "https://storage.googleapis.com/wd13/brown_corpus/493.txt\n",
            "https://storage.googleapis.com/wd13/brown_corpus/494.txt\n",
            "https://storage.googleapis.com/wd13/brown_corpus/495.txt\n",
            "https://storage.googleapis.com/wd13/brown_corpus/496.txt\n",
            "https://storage.googleapis.com/wd13/brown_corpus/497.txt\n",
            "https://storage.googleapis.com/wd13/brown_corpus/498.txt\n",
            "https://storage.googleapis.com/wd13/brown_corpus/500.txt\n",
            "https://storage.googleapis.com/wd13/brown_corpus/501.txt\n"
          ]
        }
      ],
      "source": [
        "query_or('hello world')"
      ]
    }
  ],
  "metadata": {
    "colab": {
      "provenance": [],
      "include_colab_link": true
    },
    "kernelspec": {
      "display_name": "Python 3",
      "name": "python3"
    },
    "language_info": {
      "name": "python"
    }
  },
  "nbformat": 4,
  "nbformat_minor": 0
}